{
 "cells": [
  {
   "cell_type": "code",
   "execution_count": 10,
   "id": "52db15b2",
   "metadata": {},
   "outputs": [
    {
     "name": "stdout",
     "output_type": "stream",
     "text": [
      "python main.py True False collect 0 configs/config_clopentopo.json male video_list/faddoul_available_Aug152023.csv video_id True 0 3000 False False\n"
     ]
    }
   ],
   "source": [
    "running_from_vm = True # on gcp\n",
    "headless = False # running without gui\n",
    "mode = \"collect\" # mode is \"prime\" or \"collect\"\n",
    "sleep = 0 # stay an extra number of seconds per video\n",
    "config_path = \"configs/config_clopentopo.json\" # If no config.json, leave \"\"\n",
    "gender = \"male\" # \"male\" or \"female\"\n",
    "video_list = \"video_list/faddoul_available_Aug152023.csv\"\n",
    "video_id_column_name = \"video_id\"\n",
    "until_number_of_available_videos = True # if True, crawl until reach end_index number of available videos\n",
    "start_index = 0\n",
    "end_index = 3000 # end index of video list or number of available videos to crawl\n",
    "ad_personalization_on = False\n",
    "activity_on = False\n",
    "\n",
    "print(f\"python main.py {running_from_vm} {headless} {mode} {sleep} {config_path} {gender} {video_list} {video_id_column_name} \\\n",
    "{until_number_of_available_videos} {start_index} {end_index} {ad_personalization_on} {activity_on}\")"
   ]
  }
 ],
 "metadata": {
  "kernelspec": {
   "display_name": "Python 3 (ipykernel)",
   "language": "python",
   "name": "python3"
  },
  "language_info": {
   "codemirror_mode": {
    "name": "ipython",
    "version": 3
   },
   "file_extension": ".py",
   "mimetype": "text/x-python",
   "name": "python",
   "nbconvert_exporter": "python",
   "pygments_lexer": "ipython3",
   "version": "3.11.3"
  }
 },
 "nbformat": 4,
 "nbformat_minor": 5
}
